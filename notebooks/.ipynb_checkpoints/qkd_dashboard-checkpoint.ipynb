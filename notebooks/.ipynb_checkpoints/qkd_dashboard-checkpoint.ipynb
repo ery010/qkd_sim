{
 "cells": [
  {
   "cell_type": "code",
   "execution_count": 1,
   "id": "1a0d1ff3",
   "metadata": {},
   "outputs": [
    {
     "ename": "ModuleNotFoundError",
     "evalue": "No module named 'qkd'",
     "output_type": "error",
     "traceback": [
      "\u001b[1;31m---------------------------------------------------------------------------\u001b[0m",
      "\u001b[1;31mModuleNotFoundError\u001b[0m                       Traceback (most recent call last)",
      "Input \u001b[1;32mIn [1]\u001b[0m, in \u001b[0;36m<cell line: 16>\u001b[1;34m()\u001b[0m\n\u001b[0;32m     12\u001b[0m \u001b[38;5;28;01mfrom\u001b[39;00m \u001b[38;5;21;01mnumpy\u001b[39;00m\u001b[38;5;21;01m.\u001b[39;00m\u001b[38;5;21;01mrandom\u001b[39;00m \u001b[38;5;28;01mimport\u001b[39;00m randint\n\u001b[0;32m     13\u001b[0m \u001b[38;5;28;01mimport\u001b[39;00m \u001b[38;5;21;01mpanel\u001b[39;00m \u001b[38;5;28;01mas\u001b[39;00m \u001b[38;5;21;01mpn\u001b[39;00m\n\u001b[1;32m---> 16\u001b[0m \u001b[38;5;28;01mimport\u001b[39;00m \u001b[38;5;21;01mqkd\u001b[39;00m\n",
      "\u001b[1;31mModuleNotFoundError\u001b[0m: No module named 'qkd'"
     ]
    }
   ],
   "source": [
    "import sys\n",
    "sys.path.append('../src')\n",
    "\n",
    "import ipywidgets as widgets\n",
    "import pandas as pd\n",
    "import qiskit\n",
    "\n",
    "from qiskit import QuantumCircuit, ClassicalRegister, QuantumRegister, execute, BasicAer, Aer, transpile, assemble\n",
    "from qiskit.tools.visualization import plot_histogram\n",
    "\n",
    "import numpy as np\n",
    "from numpy.random import randint\n",
    "import panel as pn\n",
    "\n",
    "\n",
    "import qkd\n",
    "# pn.extension()"
   ]
  },
  {
   "cell_type": "code",
   "execution_count": null,
   "id": "b62cd498",
   "metadata": {},
   "outputs": [],
   "source": [
    "user_login = widgets.Password(\n",
    "    value = 'ucdavis123',\n",
    "    placeholder = 'Enter Password',\n",
    "    description = 'Password:',\n",
    "    disabled=False\n",
    ")"
   ]
  },
  {
   "cell_type": "code",
   "execution_count": null,
   "id": "441dc9a4",
   "metadata": {},
   "outputs": [],
   "source": [
    "def n_bits():\n",
    "    # pn.extension()\n",
    "    return pn.widgets.IntInput(name=\"Number of Qubits\")"
   ]
  },
  {
   "cell_type": "code",
   "execution_count": null,
   "id": "fd1d82c6",
   "metadata": {},
   "outputs": [],
   "source": [
    "style = {'description_width': 'initial'}\n",
    "\n",
    "bit_value_select = widgets.BoundedIntText(\n",
    "    value = 100,\n",
    "    min = 10,\n",
    "    max = 1000000,\n",
    "    step = 1,\n",
    "    description = 'Number of Qubits:',\n",
    "    disabled = False\n",
    ")\n",
    "\n",
    "def select_string_len(n_bits):\n",
    "    \n",
    "    print(str(n_bits) + \" qubit string generated.\")"
   ]
  },
  {
   "cell_type": "code",
   "execution_count": null,
   "id": "8dd5e37b",
   "metadata": {},
   "outputs": [],
   "source": [
    "widgets.interactive(select_string_len, n_bits=bit_value_select)"
   ]
  },
  {
   "cell_type": "code",
   "execution_count": null,
   "id": "ee07067d",
   "metadata": {},
   "outputs": [],
   "source": [
    "# n_bits = pn.widgets.IntInput(name=\"Number of Qubits\")\n",
    "\n",
    "n_bits()"
   ]
  },
  {
   "cell_type": "code",
   "execution_count": null,
   "id": "94abeed2",
   "metadata": {},
   "outputs": [],
   "source": []
  }
 ],
 "metadata": {
  "kernelspec": {
   "display_name": "Python 3 (ipykernel)",
   "language": "python",
   "name": "python3"
  },
  "language_info": {
   "codemirror_mode": {
    "name": "ipython",
    "version": 3
   },
   "file_extension": ".py",
   "mimetype": "text/x-python",
   "name": "python",
   "nbconvert_exporter": "python",
   "pygments_lexer": "ipython3",
   "version": "3.9.12"
  }
 },
 "nbformat": 4,
 "nbformat_minor": 5
}
