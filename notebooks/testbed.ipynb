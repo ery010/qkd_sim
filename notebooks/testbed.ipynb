{
 "cells": [
  {
   "cell_type": "code",
   "execution_count": 2,
   "id": "93b76801",
   "metadata": {},
   "outputs": [],
   "source": [
    "from qiskit import QuantumCircuit, ClassicalRegister, QuantumRegister, execute, BasicAer, Aer, transpile, assemble\n",
    "from qiskit.tools.visualization import plot_histogram\n",
    "\n",
    "import numpy as np\n",
    "from numpy.random import randint"
   ]
  },
  {
   "cell_type": "code",
   "execution_count": 12,
   "id": "f770eed3",
   "metadata": {},
   "outputs": [],
   "source": [
    "def generate_key():\n",
    "    \"\"\"\n",
    "    Function for generating a random key and bases of length n.\n",
    "    \n",
    "    :param n: length of bitstring to generate\n",
    "    \"\"\"\n",
    "    print(\"Enter password\")\n",
    "    password = \"1234\"\n",
    "    x = input()\n",
    "    if x == password:\n",
    "        print(\"Enter bitstring length\")\n",
    "        n_ = input()\n",
    "        n = int(n_)\n",
    "        bit_key = randint(2, size=n)\n",
    "        \n",
    "        bit_basis = randint(2, size=n)\n",
    "        \n",
    "        return bit_key, bit_basis\n",
    "    \n",
    "    else:\n",
    "        print(\"Incorrect password\")\n",
    "        \n",
    "        return None, None"
   ]
  },
  {
   "cell_type": "code",
   "execution_count": 15,
   "id": "4d67ab99",
   "metadata": {},
   "outputs": [
    {
     "name": "stdout",
     "output_type": "stream",
     "text": [
      "Enter password\n",
      "1234\n",
      "Enter bitstring length\n",
      "100\n"
     ]
    }
   ],
   "source": [
    "alice_key, alice_bit = generate_key()"
   ]
  },
  {
   "cell_type": "code",
   "execution_count": 26,
   "id": "67d9998f",
   "metadata": {},
   "outputs": [
    {
     "data": {
      "text/plain": [
       "array([1, 0, 0, 1, 0, 1, 0, 0, 1, 1, 0, 0, 1, 1, 1, 0, 0, 0, 1, 1, 1, 1,\n",
       "       1, 1, 0, 1, 1, 0, 1, 1, 0, 1, 1, 1, 0, 1, 1, 1, 1, 0, 0, 1, 0, 0,\n",
       "       1, 1, 0, 1, 0, 1, 1, 1, 1, 0, 0, 0, 0, 1, 1, 0, 0, 0, 1, 0, 0, 1,\n",
       "       1, 1, 1, 0, 0, 1, 1, 0, 0, 0, 0, 1, 0, 0, 0, 1, 1, 1, 1, 1, 0, 0,\n",
       "       1, 1, 0, 1, 0, 1, 0, 1, 1, 1, 0, 0])"
      ]
     },
     "execution_count": 26,
     "metadata": {},
     "output_type": "execute_result"
    }
   ],
   "source": [
    "alice_key[0:100]"
   ]
  },
  {
   "cell_type": "code",
   "execution_count": 24,
   "id": "41c4b9ab",
   "metadata": {},
   "outputs": [
    {
     "data": {
      "text/plain": [
       "'1001010011001110001111110110110111011110010011010111100001100010011110011000010001111100110101011100'"
      ]
     },
     "execution_count": 24,
     "metadata": {},
     "output_type": "execute_result"
    }
   ],
   "source": [
    "\"\".join(alice_key.astype(str))"
   ]
  },
  {
   "cell_type": "code",
   "execution_count": 46,
   "id": "98647270",
   "metadata": {},
   "outputs": [
    {
     "data": {
      "text/plain": [
       "12381703770885117393971663386823784921609191884867772855039302993320102613091338285484878196"
      ]
     },
     "execution_count": 46,
     "metadata": {},
     "output_type": "execute_result"
    }
   ],
   "source": [
    "kh = \"\".join(alice_key[0:50].astype(str))\n",
    "km = \"\".join(alice_key[51:100].astype(str))\n",
    "\n",
    "msg = \"I am Alice.\"\n",
    "msg_bit = \"\"\n",
    "for i in msg:\n",
    "    msg_bit += bin(ord(i))[2:]\n",
    "\n",
    "base = 10\n",
    "kh = int(kh, base=base)\n",
    "km = int(km, base=base)\n",
    "msg_bit = int(msg_bit, base=base)\n",
    "\n",
    "t = (hash(kh)*(msg_bit))^km\n",
    "t"
   ]
  },
  {
   "cell_type": "code",
   "execution_count": 1,
   "id": "a5473baf",
   "metadata": {},
   "outputs": [
    {
     "ename": "IndentationError",
     "evalue": "expected an indented block (2960669257.py, line 7)",
     "output_type": "error",
     "traceback": [
      "\u001b[1;36m  Input \u001b[1;32mIn [1]\u001b[1;36m\u001b[0m\n\u001b[1;33m    \"\"\"\u001b[0m\n\u001b[1;37m    ^\u001b[0m\n\u001b[1;31mIndentationError\u001b[0m\u001b[1;31m:\u001b[0m expected an indented block\n"
     ]
    }
   ],
   "source": [
    "class SDNController(object):\n",
    "    \n",
    "    def __init__(self):\n",
    "        self.name = \"SDN Controller\"\n",
    "        \n",
    "    def error_check(self, alice_mod, bob_mod, sample_size, threshold):\n",
    "    \"\"\"\n",
    "    Function for comparing a random sample of bits in Alice and Bob's keys\n",
    "    \n",
    "    :param alice_mod: Alice's current key\n",
    "    :param bob_mod: Bob's current key\n",
    "    :param sample_size: Number of bits to compare\n",
    "    :param threshold: Allowed error proportion\n",
    "    \"\"\"\n",
    "    alice_sample = []\n",
    "    bob_sample = []\n",
    "    sample_idx = []\n",
    "    for i in range(sample_size):\n",
    "        sample_idx.append(random.randint(0, len(alice_mod)-1))\n",
    "        \n",
    "    for idx in sample_idx:\n",
    "        alice_sample.append(alice_mod[idx])\n",
    "        bob_sample.append(bob_mod[idx])\n",
    "    \n",
    "    error = 1 - (sum(np.array(alice_sample) == np.array(bob_sample)) / 10)\n",
    "    print(\"Error rate: \" + str(error))\n",
    "    \n",
    "    if error <= threshold:\n",
    "        return alice_mod, bob_mod\n",
    "    \n",
    "    else:\n",
    "        print(\"Error threshold exceeded. \" + str(error*100) + \"% discrepancy. \\n\")\n",
    "        return None, None"
   ]
  },
  {
   "cell_type": "code",
   "execution_count": 11,
   "id": "85b0d1f0",
   "metadata": {},
   "outputs": [
    {
     "data": {
      "text/plain": [
       "27"
      ]
     },
     "execution_count": 11,
     "metadata": {},
     "output_type": "execute_result"
    }
   ],
   "source": [
    "len(code1)"
   ]
  },
  {
   "cell_type": "code",
   "execution_count": 19,
   "id": "e8be9b4c",
   "metadata": {},
   "outputs": [
    {
     "name": "stdout",
     "output_type": "stream",
     "text": [
      "35\n",
      "47\n",
      "50\n",
      "28\n",
      "38\n",
      "34\n",
      "46\n",
      "52\n",
      "44\n",
      "28\n",
      "53\n",
      "37\n",
      "40\n",
      "32\n",
      "41\n",
      "28\n",
      "49\n",
      "40\n",
      "31\n",
      "28\n",
      "45\n",
      "34\n",
      "42\n",
      "39\n",
      "50\n",
      "51\n",
      "28\n",
      "40\n",
      "33\n",
      "50\n",
      "37\n",
      "28\n",
      "35\n",
      "47\n",
      "50\n",
      "28\n",
      "43\n",
      "54\n",
      "29\n",
      "30\n",
      "28\n",
      "51\n",
      "40\n",
      "48\n",
      "0\n",
      "gur dhvpx oebja sbk whzcrq bire gur ynml qbt?\n"
     ]
    }
   ],
   "source": [
    "code1 = [['a', 'n'],['b', 'o'],['c', 'p'],['d', 'q'],\n",
    "         ['e', 'r'],['f', 's'],['g', 't'],['h', 'u'],\n",
    "         ['i', 'v'],['j', 'w'],['k', 'x'],['l', 'y'],\n",
    "         ['m', 'z'],['n', 'a'],['o', 'b'],['p', 'c'],\n",
    "         ['q', 'd'],['r', 'e'],['s', 'f'],['t', 'g'],\n",
    "         ['u', 'h'],['v', 'i'],['w', 'j'],['x', 'k'],\n",
    "         ['y', 'l'],['z', 'm'],[' ', ' ']]\n",
    "code2 = [['1','!'], ['2','@'],['3','#'],['4','$'],['5','%'],\n",
    "         ['6','^'], ['7','&'],['8','*'],['9','('],['0',')']]\n",
    "test1 = \"the quick brown fox jumped over the lazy dog1\"\n",
    "test2 = \"i do not like green eggs and ham\"\n",
    "test3 = \"we can't stop!\"\n",
    "test4 = \"\"\n",
    "test5 = \"9876543210\"\n",
    "\n",
    "def encoder(test, code):\n",
    "    result = \"\"\n",
    "    n = 0\n",
    "    for i in test:\n",
    "        n = 0\n",
    "        for j in code:\n",
    "            n = n + 1\n",
    "            if i == \"\":\n",
    "                result = result + i\n",
    "            if i == j[0]:\n",
    "                result = result + j[1]\n",
    "                n = len(code) + 1\n",
    "            if n == len(code):\n",
    "                result = result + \"?\"\n",
    "                n = 0\n",
    "                \n",
    "        print(n)\n",
    "\n",
    "    print(result)\n",
    "\n",
    "encoder(test1, code1)"
   ]
  },
  {
   "cell_type": "code",
   "execution_count": null,
   "id": "9f0d94bc",
   "metadata": {},
   "outputs": [],
   "source": []
  }
 ],
 "metadata": {
  "kernelspec": {
   "display_name": "Python 3 (ipykernel)",
   "language": "python",
   "name": "python3"
  },
  "language_info": {
   "codemirror_mode": {
    "name": "ipython",
    "version": 3
   },
   "file_extension": ".py",
   "mimetype": "text/x-python",
   "name": "python",
   "nbconvert_exporter": "python",
   "pygments_lexer": "ipython3",
   "version": "3.9.12"
  }
 },
 "nbformat": 4,
 "nbformat_minor": 5
}
