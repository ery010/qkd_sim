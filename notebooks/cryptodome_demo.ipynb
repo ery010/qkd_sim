{
 "cells": [
  {
   "cell_type": "code",
   "execution_count": 2,
   "id": "45165be6",
   "metadata": {},
   "outputs": [],
   "source": [
    "from Crypto.Hash import Poly1305\n",
    "from Crypto.Cipher import AES\n",
    "from binascii import unhexlify"
   ]
  },
  {
   "cell_type": "code",
   "execution_count": 103,
   "id": "4f69e854",
   "metadata": {},
   "outputs": [
    {
     "name": "stdout",
     "output_type": "stream",
     "text": [
      "Nonce:  4efd325c640e6f7a191cd4ef0b94108d\n",
      "MAC:    25cf74062ad03a5b12ef93ff764a2185\n"
     ]
    }
   ],
   "source": [
    "secret = b'Thirtytwo very very secret bytes'\n",
    "\n",
    "mac = Poly1305.new(key=secret, cipher=AES)\n",
    "mac.update(b'Hello')\n",
    "print(\"Nonce: \", mac.nonce.hex())\n",
    "print(\"MAC:   \", mac.hexdigest())"
   ]
  },
  {
   "cell_type": "code",
   "execution_count": 117,
   "id": "0d765e4a",
   "metadata": {},
   "outputs": [
    {
     "name": "stdout",
     "output_type": "stream",
     "text": [
      "\n",
      "The message 'b'I am Alice.'' is authentic\n"
     ]
    }
   ],
   "source": [
    "passed = False\n",
    "msg_ = b\"I am Alice.\"\n",
    "\n",
    "nonce_hex = mac.nonce.hex()\n",
    "mac_tag_hex = mac.hexdigest()\n",
    "\n",
    "secret = b'Thirtytwo very very secret bytes'\n",
    "nonce = unhexlify(nonce_hex)\n",
    "mac = Poly1305.new(key=secret, nonce=nonce, cipher=AES, data=msg_)\n",
    "try:\n",
    "    mac.hexverify(mac_tag_hex)\n",
    "    print(\"\\nThe message '%s' is authentic\" % msg_)\n",
    "    passed = True\n",
    "except ValueError:\n",
    "    print(\"\\nThe message or the key is wrong\")\n",
    "    passed = False"
   ]
  },
  {
   "cell_type": "code",
   "execution_count": null,
   "id": "5dabc7fc",
   "metadata": {},
   "outputs": [],
   "source": []
  }
 ],
 "metadata": {
  "kernelspec": {
   "display_name": "Python 3 (ipykernel)",
   "language": "python",
   "name": "python3"
  },
  "language_info": {
   "codemirror_mode": {
    "name": "ipython",
    "version": 3
   },
   "file_extension": ".py",
   "mimetype": "text/x-python",
   "name": "python",
   "nbconvert_exporter": "python",
   "pygments_lexer": "ipython3",
   "version": "3.9.12"
  }
 },
 "nbformat": 4,
 "nbformat_minor": 5
}
