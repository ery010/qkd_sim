{
 "cells": [
  {
   "cell_type": "code",
   "execution_count": 21,
   "id": "e8cd2143",
   "metadata": {},
   "outputs": [
    {
     "data": {
      "text/plain": [
       "''"
      ]
     },
     "execution_count": 21,
     "metadata": {},
     "output_type": "execute_result"
    }
   ],
   "source": [
    "import tkinter as tk\n",
    "import os\n",
    "from tkinter import scrolledtext\n",
    "\n",
    "# Create window\n",
    "window = tk.Tk()\n",
    "window.title(\"Quantum Key Distribution Simulator\")\n",
    "window.geometry(\"1600x800\")"
   ]
  },
  {
   "cell_type": "code",
   "execution_count": 22,
   "id": "e9b32a58",
   "metadata": {},
   "outputs": [],
   "source": [
    "# Entry for key size\n",
    "key_size_label = tk.Label(window, text=\"Key Size\")\n",
    "key_size_label.grid(column=0, row=0)\n",
    "key_size_input = tk.Entry(window, width=20)\n",
    "key_size_input.grid(column=0, row=1)"
   ]
  },
  {
   "cell_type": "code",
   "execution_count": 23,
   "id": "9b8a84cd",
   "metadata": {},
   "outputs": [],
   "source": [
    "# Terminal widget\n",
    "terminal = scrolledtext.ScrolledText(window, wrap = tk.WORD)\n",
    "terminal.grid(column=3, row=4, pady=10, padx=10)"
   ]
  },
  {
   "cell_type": "code",
   "execution_count": 24,
   "id": "bee75462",
   "metadata": {},
   "outputs": [],
   "source": [
    "window.mainloop()"
   ]
  },
  {
   "cell_type": "code",
   "execution_count": null,
   "id": "882e3a08",
   "metadata": {},
   "outputs": [],
   "source": []
  }
 ],
 "metadata": {
  "kernelspec": {
   "display_name": "Python 3 (ipykernel)",
   "language": "python",
   "name": "python3"
  },
  "language_info": {
   "codemirror_mode": {
    "name": "ipython",
    "version": 3
   },
   "file_extension": ".py",
   "mimetype": "text/x-python",
   "name": "python",
   "nbconvert_exporter": "python",
   "pygments_lexer": "ipython3",
   "version": "3.9.12"
  }
 },
 "nbformat": 4,
 "nbformat_minor": 5
}
