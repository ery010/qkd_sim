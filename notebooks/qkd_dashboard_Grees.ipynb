{
 "cells": [
  {
   "cell_type": "code",
   "execution_count": null,
   "id": "e5346d73",
   "metadata": {},
   "outputs": [],
   "source": [
    "import sys\n",
    "sys.path.append('../src')\n",
    "\n",
    "import ipywidgets as widgets\n",
    "import pandas as pd\n",
    "import qiskit\n",
    "import math\n",
    "\n",
    "from qiskit import QuantumCircuit, ClassicalRegister, QuantumRegister, execute, BasicAer, Aer, transpile, assemble\n",
    "from qiskit.tools.visualization import plot_histogram\n",
    "\n",
    "from Crypto.Hash import Poly1305\n",
    "from Crypto.Cipher import AES\n",
    "from binascii import unhexlify\n",
    "\n",
    "import numpy as np\n",
    "from numpy.random import randint\n",
    "import panel as pn\n",
    "\n",
    "import qkd\n",
    "pn.extension()\n",
    "pn.extension('terminal')\n",
    "\n",
    "import time"
   ]
  },
  {
   "cell_type": "code",
   "execution_count": null,
   "id": "652f012e",
   "metadata": {},
   "outputs": [],
   "source": [
    "Aer.backends()"
   ]
  },
  {
   "cell_type": "code",
   "execution_count": null,
   "id": "4e9009f6",
   "metadata": {},
   "outputs": [],
   "source": [
    "dashboard = None\n",
    "mac = None"
   ]
  },
  {
   "cell_type": "code",
   "execution_count": null,
   "id": "0b5472c5",
   "metadata": {},
   "outputs": [],
   "source": [
    "temp_backend = Aer.get_backend(\"qasm_simulator\")\n",
    "temp_air_sim = temp_backend"
   ]
  },
  {
   "cell_type": "code",
   "execution_count": null,
   "id": "113d5bba",
   "metadata": {},
   "outputs": [],
   "source": []
  },
  {
   "cell_type": "code",
<<<<<<< HEAD
   "execution_count": 5,
=======
   "execution_count": null,
   "id": "e402c69c",
>>>>>>> af373c9d02b205dc5740eddea17175c296b87f10
   "metadata": {},
   "outputs": [],
   "source": [
    "# Parameter selectors\n",
    "n_bits = pn.widgets.IntInput(name=\"Number of Qubits\", value=10, step=1, start=10, end=1000000)\n",
    "displacement = pn.widgets.FloatSlider(name=\"Distance (km)\", value=0, step=1, start=0, end=20)\n",
    "#% to db: db = 10 log(1+%)\n",
    "#db to %:%=(10^db/10)*100\n",
    "#print(1-1/pow(10,(displacement.value*0.4+2)/10))\n",
    "#print(1-1/pow(10,(displacement.start*0.4+2)/10))\n",
    "#print(1-1/pow(10,(displacement.end*0.4+2)/10))\n",
    "decoherence = pn.widgets.FloatSlider(name=\"Decoherence rate\", value=1-1/pow(10,(displacement.value*0.4+2)/10), step=0.01, start=1-1/pow(10,(displacement.start*0.4+2)/10), end=1-1/pow(10,(displacement.end*0.4+2)/10))\n",
    "timesl = pn.widgets.FloatSlider(name=\"Time to establish first key (km)\", value=488-(7.19*displacement.value)+(1.5*pow(displacement.value,2)), step=5, start=488-(7.19*displacement.start)+(1.5*pow(displacement.start,2)), end=488-(7.19*displacement.end)+(1.5*pow(displacement.end,2)))\n",
    "receiver = pn.widgets.Select(name=\"Target\", options=['Bob', 'Test'])\n",
    "## Greesan --> more inputs Code for  qprot, eavesdropping, and solutions\n",
    "qprotgroup = pn.widgets.RadioButtonGroup(\n",
    "    name='cb_qprot', options=['BB84','Ekert'])\n",
    "eavebox = pn.widgets.Checkbox(name='Eavesdropping')\n",
    "eaveslide = pn.widgets.FloatSlider(name=\"Leftover Eavesdropping rate\", value=0, step=0.01, start=0, end=1)\n",
    "#eaveslide = pn.widgets.FloatSlider(name=\"Leftover Eavesdropping rate\", value=0, step=0.01, start=0, end=1-decoherence.value)\n",
    "#eaveslide.link(decoherence,'value')\n",
    "isolgroup = pn.widgets.CheckButtonGroup(\n",
    "    name='cb_i_soln', options=['SDN', 'Poly1305-AES'])\n",
    "isol2 = pn.widgets.CheckButtonGroup(\n",
    "    name='cb_i_soln', options=['Cascade'])\n",
    "updatebutton = pn.widgets.Button(name=\"Update Inputs\",button_type='primary')\n",
    "dispreval = displacement.value\n",
    "decopreval = decoherence.value\n",
    "eaveprebool = eavebox.value\n",
    "eavepreval = eaveslide.value\n",
    "timepreval = timesl.value"
   ]
  },
  {
   "cell_type": "code",
   "execution_count": null,
   "id": "0f8a2ddc",
   "metadata": {},
   "outputs": [],
   "source": [
    "keys = []\n",
    "bases = []\n",
    "encoded_output = []\n",
    "\n",
    "bob_results = []\n",
    "# Generate key\n",
    "def generate_key(event=None):\n",
    "    \"\"\"\n",
    "    Function for generating a random key and bases of length n.\n",
    "    \n",
    "    :param n: length of bitstring to generate\n",
    "    \"\"\"\n",
    "    n = n_bits.value\n",
    "    bit_key = randint(2, size=n)\n",
    "    bit_basis = randint(2, size=n)\n",
    "    \n",
    "    keys.append(bit_key)\n",
    "    bases.append(bit_basis)\n",
    "    \n",
    "    if select_auth.value == 'Poly1305':\n",
    "        secret = b'Thirtytwo very very secret bytes'\n",
    "        \n",
    "        global mac\n",
    "        mac = Poly1305.new(key=secret, cipher=AES)\n",
    "        mac.update(b'Hello')\n",
    "        print(\"Nonce: \", mac.nonce.hex())\n",
    "        print(\"MAC:   \", mac.hexdigest())\n",
    "\n",
    "        time.sleep(0.25)\n",
    "        terminal.write(\"Nonce: \" + str(mac.nonce.hex()) + \"\\n\")\n",
    "        time.sleep(0.25)\n",
    "        terminal.write(\"MAC:   \" + str(mac.hexdigest()) + \"\\n\")\n",
    "        time.sleep(0.25)\n",
    "    \n",
    "    \n",
    "    \n",
    "    terminal.write(\"\\nGenerating \" + str(n) + \"-qubit key and basis \")\n",
    "    for i in range(3):\n",
    "        time.sleep(0.25)\n",
    "        terminal.write(\".\")\n",
    "    time.sleep(0.25)\n",
    "    terminal.write(\" Finished\")\n",
    "    time.sleep(0.4)\n",
    "    terminal.write(\"\\nAlice's Key: \" + str(bit_key) + \"\\nAlice's Encoding Basis: \" + str(bit_basis))\n",
    "    \n",
    "generate_button = pn.widgets.Button(name=\"Generate key\")\n",
    "generate_button.on_click(generate_key)\n",
    "\n",
    "qubit_select = pn.widgets.Select(name=\"Qubit\", options=[])\n",
    "\n",
    "measure_button = pn.widgets.Button(name=\"Measure\")\n",
    "### Write code for key with eavesdropper with measure\n",
    "# Outputs\n",
    "terminal = pn.widgets.Terminal(\"Welcome to the QKD Simulator.\\n\\n\", height=600, sizing_mode='stretch_width', options={\"cursorBlink\": True})\n",
    "clear_terminal = pn.widgets.Button(name=\"Clear terminal\")\n",
    "\n",
    "send_button = pn.widgets.Button(name=\"Send\")\n",
    "\n",
    "measure_terminal = pn.widgets.Terminal(height=120, sizing_mode='stretch_width', options={\"cursorBlink\": True})\n",
    "\n",
    "def send(event=None):\n",
    "    #msg_receiver = receiver.value\n",
    "    \n",
    "    terminal.write(\"\\nEncoding \")\n",
    "    encode()\n",
    "    for i in range(3):\n",
    "        time.sleep(0.25)\n",
    "        terminal.write(\".\")\n",
    "    time.sleep(0.25)\n",
    "    terminal.write(\" Sent\")\n",
    "    time.sleep(0.4)\n",
    "    \n",
    "def encode(event=None):\n",
    "    \"\"\"\n",
    "    Function for encoding a message.\n",
    "    \n",
    "    :param bit_key: Randomly generated bitstring key\n",
    "    :param bit_bases: Bases for each bit in bit_key\n",
    "    \"\"\"\n",
    "    bit_key = keys[-1]\n",
    "    bit_bases = bases[-1]\n",
    "    output = []\n",
    "    \n",
    "    # length of bit_key and bit_bases should be the same\n",
    "    assert len(bit_key) == len(bit_bases), \"Key and bases sequence should be equivalent.\"\n",
    "    \n",
    "    for i in range(len(bit_key)):\n",
    "        qc = QuantumCircuit(1, 1)\n",
    "        \n",
    "        # Encode qubit in Z-basis (horizontal-vertical)\n",
    "        if bit_bases[i] == 0:\n",
    "            if bit_key[i] == 0:\n",
    "                pass\n",
    "            else:\n",
    "                qc.x(0)\n",
    "        \n",
    "        # Encode qubit in X-basis (diagonal)\n",
    "        else:\n",
    "            if bit_key[i] == 0:\n",
    "                qc.h(0)\n",
    "            else:\n",
    "                qc.x(0)\n",
    "                qc.h(0)\n",
    "                \n",
    "        qc.barrier()\n",
    "        output.append(qc)\n",
    "        \n",
    "    encoded_output.append(output)\n",
    "    qubit_select.options += [\"Qubit \" + str(i) for i in range(len(output))]\n",
    "\n",
    "send_button.on_click(send)\n",
    "    \n",
    "def delete_text(event=None):\n",
    "    terminal.clear()\n",
    "\n",
    "clear_terminal.on_click(delete_text)"
   ]
  },
  {
   "cell_type": "code",
   "execution_count": null,
   "id": "24561e90",
   "metadata": {},
   "outputs": [],
   "source": [
    "def measure_qubits(event=None):\n",
    "    measure_terminal.clear()\n",
    "    measure_terminal.write(\"\\nMeasuring \")\n",
    "    for i in range(3):\n",
    "        time.sleep(0.25)\n",
    "        measure_terminal.write(\".\")\n",
    "    time.sleep(0.25)\n",
    "    measure_terminal.write(\" Finished\")\n",
    "    time.sleep(0.4)\n",
    "    \n",
    "    noise = decoherence.value\n",
    "    measure_terminal.write(noise)\n",
    "    msg = encoded_output[-1]\n",
    "    n = n_bits.value\n",
    "    bases = randint(2, size=n)\n",
    "    \n",
    "    if noise > 0:\n",
    "        \n",
    "        #temp_backend = Aer.get_backend(\"aer_simulator\")\n",
    "        temp_results = []\n",
    "        \n",
    "        noise_idx = []\n",
    "        for i_n in range(int(len(msg)*noise)):\n",
    "            noise_idx.append(random.randint(0, len(msg)-1))\n",
    "            \n",
    "        for n_idx in noise_idx:\n",
    "            # Z-basis\n",
    "            if bases[n_idx] == 0: \n",
    "                msg[n_idx].measure(0, 0)\n",
    "\n",
    "             # X-basis\n",
    "            if bases[n_idx] == 1:\n",
    "                msg[n_idx].h(0)\n",
    "                msg[n_idx].measure(0, 0)\n",
    "                \n",
    "            #temp_aer_sim = Aer.get_backend(\"aer_simulator\")\n",
    "            temp_qobj = assemble(msg[n_idx], shots=1, memory=True)\n",
    "            temp_sim_results = temp_aer_sim.run(temp_qobj).result()\n",
    "            temp_measured_bit = int(temp_sim_results.get_memory()[0])\n",
    "            temp_results.append(temp_measured_bit)\n",
    "            \n",
    "    secret = b'Thirtytwo very very secret bytes'\n",
    "    mac = Poly1305.new(key=secret, cipher=AES)\n",
    "    mac.update(b'Hello')\n",
    "    print(\"Nonce: \", mac.nonce.hex())\n",
    "    print(\"MAC:   \", mac.hexdigest())\n",
    "    \n",
    "    passed = False\n",
    "    msg_ = b\"I am Alice.\"\n",
    "    \n",
    "    nonce_hex = mac.nonce.hex()\n",
    "    mac_tag_hex = mac.hexdigest()\n",
    "\n",
    "    secret = b'Thirtytwo very very secret bytes'\n",
    "    nonce = unhexlify(nonce_hex)\n",
    "    mac = Poly1305.new(key=secret, nonce=nonce, cipher=AES, data=msg_)\n",
    "    try:\n",
    "        mac.hexverify(mac_tag_hex)\n",
    "        print(\"\\nThe message '%s' is authentic\" % msg_)\n",
    "        passed = True\n",
    "    except ValueError:\n",
    "        print(\"\\nThe message or the key is wrong\")\n",
    "        passed = False\n",
    "         \n",
    "    backend = Aer.get_backend(\"aer_simulator\")\n",
    "    results = []\n",
    "    \n",
    "    for i in range(len(msg)):\n",
    "        # Z-basis\n",
    "        if bases[i] == 0: \n",
    "            msg[i].measure(0, 0)\n",
    "            \n",
    "         # X-basis\n",
    "        if bases[i] == 1:\n",
    "            msg[i].h(0)\n",
    "            msg[i].measure(0, 0)\n",
    "            \n",
    "        aer_sim = Aer.get_backend(\"aer_simulator\")\n",
    "        qobj = assemble(msg[i], shots=1, memory=True)\n",
    "        sim_results = aer_sim.run(qobj).result()\n",
    "        measured_bit = int(sim_results.get_memory()[0])\n",
    "        results.append(measured_bit)\n",
    "        \n",
    "    bob_results.append(results)\n",
    "    \n",
    "    \n",
    "    if passed == True:\n",
    "        alice_msg = str(\"\\nThe message is authentic.\")\n",
    "        measure_terminal.write(alice_msg + \"\\n\")\n",
    "        measure_terminal.write(\"\\nGenerated Key: \"+ str(results))\n",
    "    \n",
    "    else:\n",
    "        measure_terminal.write(\"\\nThe message or the key is wrong. Terminating \")\n",
    "        for i in range(3):\n",
    "            time.sleep(0.25)\n",
    "            measure_terminal.write(\".\")\n",
    "        \n",
    "        measure_terminal.write(\"\\nSession ended.\")\n",
    "        \n",
    "\n",
    "\n",
    "measure_button.on_click(measure_qubits)\n",
    "\n",
    "select_auth = pn.widgets.Select(name=\"Authentication Protocol\", options=[\"Poly1305\", \"AES\", \"ZKP\"])\n",
    "\n",
    "pre_shared = pn.widgets.TextInput(name=\"Pre-Shared Key\", value='Thirty two very very secret bytes')\n",
    "\n",
    "auth_input = pn.widgets.TextInput(name=\"Authentication Tag\", value='Thirty two very very secret bytes')\n",
    "\n",
    "#updash()\n",
    "\n",
    "measurement = pn.Row(pn.WidgetBox(auth_input, measure_button, height=120), measure_terminal)"
   ]
  },
  {
   "cell_type": "code",
   "execution_count": null,
   "id": "cfa8a116",
   "metadata": {},
   "outputs": [],
   "source": [
    "def generate_key2(n):\n",
    "    \"\"\"\n",
    "    Function for generating a random key and bases of length n.\n",
    "    \n",
    "    :param n: length of bitstring to generate\n",
    "    \"\"\"\n",
    "    bit_key = randint(2, size=n)\n",
    "    bit_basis = randint(2, size=n)\n",
    "    \n",
    "    return bit_key, bit_basis\n",
    "\n",
    "# Code for measuring\n",
    "def encode2(bit_key, bit_bases):\n",
    "    \"\"\"\n",
    "    Function for encoding a message.\n",
    "    \n",
    "    :param bit_key: Randomly generated bitstring key\n",
    "    :param bit_bases: Bases for each bit in bit_key\n",
    "    \"\"\"\n",
    "    output = []\n",
    "    \n",
    "    # length of bit_key and bit_bases should be the same\n",
    "    assert len(bit_key) == len(bit_bases), \"Key and bases sequence should be equivalent.\"\n",
    "    \n",
    "    for i in range(len(bit_key)):\n",
    "        qc = QuantumCircuit(1, 1)\n",
    "        \n",
    "        # Encode qubit in Z-basis (horizontal-vertical)\n",
    "        if bit_bases[i] == 0:\n",
    "            if bit_key[i] == 0:\n",
    "                pass\n",
    "            else:\n",
    "                qc.x(0)\n",
    "        \n",
    "        # Encode qubit in X-basis (diagonal)\n",
    "        else:\n",
    "            if bit_key[i] == 0:\n",
    "                qc.h(0)\n",
    "            else:\n",
    "                qc.x(0)\n",
    "                qc.h(0)\n",
    "                \n",
    "        qc.barrier()\n",
    "        output.append(qc)\n",
    "        \n",
    "    return output"
   ]
  },
  {
   "cell_type": "code",
   "execution_count": null,
   "id": "f6a6da39",
   "metadata": {},
   "outputs": [],
   "source": [
    "def encodeBits(abits,abasis):\n",
    "    s = \"[\"\n",
    "    qc = QuantumCircuit(len(abits))\n",
    "    for i in range(len(abits)):\n",
    "        if abits[i] == 0:\n",
    "            if abasis[i] == 0:\n",
    "                s+='0'\n",
    "            else:\n",
    "                qc.h(i)\n",
    "                s+='+'\n",
    "        else:\n",
    "            qc.x(i)\n",
    "            if abasis[i] == 0:\n",
    "                s+='1'\n",
    "            else:\n",
    "                qc.h(i)\n",
    "                s+='-'\n",
    "        if i < len(abits)-1:\n",
    "            s+= \" \"\n",
    "    qc.barrier()\n",
    "    return (qc,s+\"]\")\n",
    "\n",
    "def decomeasure(perc,qc,basis):\n",
    "    meascnt = 0\n",
    "    measgate = QuantumCircuit(1, name='NOISE')\n",
    "    measgate.h(0)\n",
    "    for i in range(len(basis)):\n",
    "        #print(\"meas\",i)\n",
    "        if randint(0,100) < perc*100:\n",
    "            #print(i,\"is measured\")\n",
    "            qc.append(measgate,[i])\n",
    "            meascnt+=1\n",
    "    qc.barrier()\n",
    "    return (qc,meascnt)\n",
    "\n",
    "def eavesdrop(perc,qc,basis):\n",
    "    eavecnt = 0\n",
    "    eavesucc = 0\n",
    "    eavegate = QuantumCircuit(1, name='EAVESDROP')\n",
    "    for i in range(len(basis)):\n",
    "        if randint(0,100) < perc*100:\n",
    "            eavecnt+=1\n",
    "            qc.append(eavegate,[i])\n",
    "            r = randint(0,1)\n",
    "            if basis[i] == r:\n",
    "                eavesucc+=1\n",
    "            if r == 1:\n",
    "                qc.h(i)\n",
    "    qc.barrier()\n",
    "    return (qc,eavecnt,eavesucc)\n",
    "\n",
    "def bobmeasure(qc,bobbasis,alicebasis):\n",
    "    matchcount = 0\n",
    "    for i in range(len(bobbasis)):\n",
    "        if bobbasis[i] == 1:\n",
    "            qc.h(i)\n",
    "        if bobbasis[i] == alicebasis[i]:\n",
    "            matchcount+=1\n",
    "    return (qc,matchcount)"
   ]
  },
  {
   "cell_type": "code",
   "execution_count": null,
   "id": "2b10754e",
   "metadata": {},
   "outputs": [],
   "source": [
    "def genrand(n):\n",
    "    bits = randint(2, size=n)\n",
    "    return bits"
   ]
  },
  {
   "cell_type": "code",
<<<<<<< HEAD
   "execution_count": 11,
=======
   "execution_count": null,
   "id": "8f0917a6",
>>>>>>> af373c9d02b205dc5740eddea17175c296b87f10
   "metadata": {},
   "outputs": [],
   "source": [
    "bb84flag = False\n",
    "Ekertflag = False\n",
    "def on_BB84(eaves,eaveprebool,eavesperc,eavepreval,decoperc,decopreval,event=None):\n",
    "    global bb84flag\n",
    "    global Ekertflag\n",
    "    if not bb84flag or eavesperc!=eavepreval or decoperc!=decopreval:\n",
    "        terminal.clear()\n",
    "        terminal.write(\"BB84\\n\")\n",
    "        (alicebits,alicebasis) = generate_key2(n_bits.value)\n",
    "        terminal.write(\"Alice Bits:               \" + str(alicebits) + \"\\n\")\n",
    "        terminal.write(\"Alice Encoding Basis:     \" + str(alicebasis) + \"\\n\")\n",
    "        (qc,s) = encodeBits(alicebits,alicebasis)\n",
    "        terminal.write(\"Alice Bits After Encoding:\" + s + \"\\n\")\n",
    "        if decoperc>0:\n",
    "            qc,decoherecnt = decomeasure(decoperc,qc,alicebasis)\n",
    "        terminal.write(str(decoherecnt) + \" bits lost due to noise\")\n",
    "        if eaves and eavesperc>0:\n",
    "            qc,eavecnt,eavesucc = eavesdrop(eavesperc,qc,alicebasis)\n",
    "            terminal.write(\"\\nEavesdropping attempted on:\"+ str(eavecnt) + \" bits\\nEavesdropping undetected on:\" + str(eavesucc) + \" bits\")\n",
    "            \n",
    "        bobbasis = genrand(n_bits.value)\n",
    "        terminal.write(\"\\nBob Decoding Basis:       \" + str(bobbasis) + \"\\n\")\n",
    "        qc,matchcount = bobmeasure(qc,bobbasis,alicebasis)\n",
    "        terminal.write(\"\\nBits lost due to Bob's wrong basis selection:       \" + str(len(alicebits)-matchcount) + \"\\n\")\n",
    "        terminal.write(qc.draw(output=\"text\"))\n",
    "        terminal.write(\"\\n\")\n",
    "    bb84flag = True\n",
    "    Ekertflag = False\n",
    "    #inputs: coherence\n",
    "    #inputs: #bits\n",
    "    #outputs:"
   ]
  },
  {
   "cell_type": "code",
   "execution_count": null,
   "id": "7a7699e7",
   "metadata": {},
   "outputs": [],
   "source": [
    "def on_Ekert(event=None):\n",
    "    global bb84flag\n",
    "    global Ekertflag\n",
    "    if not Ekertflag:\n",
    "        terminal.clear()\n",
    "        terminal.write(\"Ekert91\\n\")\n",
    "        print(\"\")\n",
    "    bb84flag = False\n",
    "    Ekertflag = True"
   ]
  },
  {
   "cell_type": "code",
   "execution_count": null,
   "id": "c2f71078",
   "metadata": {},
   "outputs": [],
   "source": [
    "def on_eavesdrop(event=None):\n",
    "    a = True\n",
    "    #ouputs ->reveal eavesdropping ratio --> terminal displays eavesdropping content"
   ]
  },
  {
   "cell_type": "code",
   "execution_count": null,
   "id": "de02ec1c",
   "metadata": {},
   "outputs": [],
   "source": [
    "def on_SDN(event=None):\n",
    "    a = True"
   ]
  },
  {
   "cell_type": "code",
   "execution_count": null,
   "id": "6fdde872",
   "metadata": {},
   "outputs": [],
   "source": [
    "def on_Poly1305AES(event=None):\n",
    "    a = True"
   ]
  },
  {
   "cell_type": "code",
   "execution_count": null,
   "id": "2cf271b0",
   "metadata": {},
   "outputs": [],
   "source": [
    "def on_Cascade(event=None):\n",
    "    a = True"
   ]
  },
  {
   "cell_type": "code",
   "execution_count": null,
   "id": "09837fd1",
   "metadata": {},
   "outputs": [],
   "source": [
    "def updash(event=None):\n",
    "    global dashboard\n",
    "    dashboard = pn.Row(pn.WidgetBox(pre_shared, n_bits, decoherence, displacement, timesl, qprotgroup, eavebox, eaveslide, isolgroup, isol2, updatebutton, generate_button, clear_terminal, send_button, height=600),\n",
    "    terminal)\n",
    "updash()"
   ]
  },
  {
   "cell_type": "code",
   "execution_count": null,
   "id": "3ef8b75c",
   "metadata": {},
   "outputs": [],
   "source": [
    "def update(event=None):\n",
    "    global isolgroup\n",
    "    global eavebox\n",
    "    global eaveslide\n",
    "    global timesl\n",
    "    global displacement\n",
    "    global decoherence\n",
    "    global decopreval\n",
    "    global dispreval\n",
    "    global timepreval\n",
    "    global eaveprebool\n",
    "    global eavepreval\n",
    "    #print(eavebox)\n",
    "    #print(eavebox.value)\n",
    "    \n",
    "    if eavebox.value:\n",
    "        #isolgroup = pn.widgets.CheckButtonGroup(name='cb_i_soln', options=['SDN', 'Poly1305-AES', 'Cascade'])\n",
    "        eaveslide.disabled = False\n",
    "        if eaveslide.value > 0:\n",
    "            isolgroup.disabled = False\n",
    "        else:\n",
    "            isolgroup.disabled = True\n",
    "        if eaveslide.value>0 or decoherence.value>0:\n",
    "            isol2.disabled = False\n",
    "        else:\n",
    "            isol2.disabled = True\n",
    "        #eaveslide.end = 1-decoherence.value\n",
    "        eavenoise = eaveslide.value + decoherence.value\n",
    "        on_eavesdrop()\n",
    "    else:\n",
    "        #isolgroup = pn.widgets.CheckButtonGroup(name='cb_i_soln', options=['SDN', 'Poly1305-AES', 'Cascade'],disabled=True)\n",
    "        eaveslide.disabled = True\n",
    "        isolgroup.disabled = True\n",
    "        if decoherence.value > 0:\n",
    "            isol2.disabled = False\n",
    "        else:\n",
    "            isol2.disabled = True\n",
    "        eavenoise = decoherence.value\n",
    "    slideflag = True\n",
    "    #coherence = displacement.value*0.4+2\n",
    "    #time = 488-(7.19*displacement.value)+(1.5*displacement.value*displacement.value)\n",
    "    #coh=1-1/pow(10,(displacement.value*0.4+2)/10)\n",
    "    #disp = \n",
    "    \n",
    "    if slideflag and decopreval != decoherence.value:\n",
    "        displacement.value = (-2.5)*(10*math.log10(1-decoherence.value)+2)\n",
    "        timesl.value = 488-(7.19*displacement.value)+(1.5*pow(displacement.value,2))\n",
    "        #print(displacement.value,timesl.value)\n",
    "        slideflag = False\n",
    "    if slideflag and dispreval != displacement.value:\n",
    "        decoherence.value = 1-1/pow(10,(displacement.value*0.4+2)/10)\n",
    "        timesl.value = 488-(7.19*displacement.value)+(1.5*pow(displacement.value,2))\n",
    "        #print(decoherence.value,timesl.value)\n",
    "        slideflag = False\n",
    "    if slideflag and timepreval != timesl.value:\n",
    "        displacement.value = math.sqrt((timesl.value-479)*2/3)+2.4\n",
    "        decoherence.value = 1-1/pow(10,(displacement.value*0.4+2)/10)\n",
    "        #print(displacement.value,decoherence.value)\n",
    "        slideflag = False\n",
    "    \n",
    "    dispreval = displacement.value\n",
    "    timepreval = timesl.value\n",
    "    if qprotgroup.value == \"Ekert\":\n",
    "        on_Ekert()\n",
    "    else:\n",
    "        on_BB84(eavebox.value,eaveprebool,eaveslide.value,eavepreval,decoherence.value,decopreval)\n",
    "        decopreval = decoherence.value\n",
    "        eaveprebool = eavebox.value\n",
    "        eavepreval = eaveslide.value\n",
    "    #print(isolgroup.value)\n",
    "    if isolgroup.value and len(isolgroup.value)>0:\n",
    "        if \"SDN\" in isolgroup.value:\n",
    "            print(\"SDN Activated\")\n",
    "            on_SDN()\n",
    "        if \"Poly1305-AES\" in isolgroup.value:\n",
    "            print(\"AES Activated\")\n",
    "            on_Poly1305AES()\n",
    "    #print(isol2.value)\n",
    "    if isol2.value and len(isol2.value)>0 and isol2.value[0]:\n",
    "        print(\"Cascade Activated\")\n",
    "        on_Cascade()\n",
    "    #updash()\n",
    "updatebutton.on_click(update)\n",
    "        "
   ]
  },
  {
   "cell_type": "code",
   "execution_count": null,
   "id": "0517f3ac",
   "metadata": {},
   "outputs": [],
   "source": [
    "#isolgroup = pn.widgets.CheckButtonGroup(\n",
    "#    name='cb_i_soln', options=['SDN', 'Poly1305-AES', 'Cascade'],disabled=True)\n",
    "#dashboard = updash()\n",
    "#dashboard"
   ]
  },
  {
   "cell_type": "code",
   "execution_count": null,
   "id": "d4be0588",
   "metadata": {},
   "outputs": [],
   "source": [
    "#isolgroup\n",
    "#eavebox\n",
    "#qprotgroup"
   ]
  },
  {
   "cell_type": "code",
<<<<<<< HEAD
   "execution_count": 21,
   "metadata": {
    "scrolled": false
   },
   "outputs": [
    {
     "data": {
      "application/vnd.holoviews_exec.v0+json": "",
      "text/html": [
       "<div id='1002'>\n",
       "\n",
       "\n",
       "\n",
       "\n",
       "\n",
       "  <div class=\"bk-root\" id=\"5b1b1895-376c-46a8-8529-ffe18ff2f742\" data-root-id=\"1002\"></div>\n",
       "</div>\n",
       "<script type=\"application/javascript\">(function(root) {\n",
       "  function embed_document(root) {\n",
       "    var docs_json = {\"d849d872-9b1d-4b93-8011-f2dfbf154a31\":{\"defs\":[{\"extends\":null,\"module\":null,\"name\":\"ReactiveHTML1\",\"overrides\":[],\"properties\":[]},{\"extends\":null,\"module\":null,\"name\":\"FlexBox1\",\"overrides\":[],\"properties\":[{\"default\":\"flex-start\",\"kind\":null,\"name\":\"align_content\"},{\"default\":\"flex-start\",\"kind\":null,\"name\":\"align_items\"},{\"default\":\"row\",\"kind\":null,\"name\":\"flex_direction\"},{\"default\":\"wrap\",\"kind\":null,\"name\":\"flex_wrap\"},{\"default\":\"flex-start\",\"kind\":null,\"name\":\"justify_content\"}]},{\"extends\":null,\"module\":null,\"name\":\"GridStack1\",\"overrides\":[],\"properties\":[{\"default\":\"warn\",\"kind\":null,\"name\":\"mode\"},{\"default\":null,\"kind\":null,\"name\":\"ncols\"},{\"default\":null,\"kind\":null,\"name\":\"nrows\"},{\"default\":true,\"kind\":null,\"name\":\"allow_resize\"},{\"default\":true,\"kind\":null,\"name\":\"allow_drag\"},{\"default\":[],\"kind\":null,\"name\":\"state\"}]},{\"extends\":null,\"module\":null,\"name\":\"click1\",\"overrides\":[],\"properties\":[{\"default\":\"\",\"kind\":null,\"name\":\"terminal_output\"},{\"default\":\"\",\"kind\":null,\"name\":\"debug_name\"},{\"default\":0,\"kind\":null,\"name\":\"clears\"}]},{\"extends\":null,\"module\":null,\"name\":\"TemplateActions1\",\"overrides\":[],\"properties\":[{\"default\":0,\"kind\":null,\"name\":\"open_modal\"},{\"default\":0,\"kind\":null,\"name\":\"close_modal\"}]},{\"extends\":null,\"module\":null,\"name\":\"MaterialTemplateActions1\",\"overrides\":[],\"properties\":[{\"default\":0,\"kind\":null,\"name\":\"open_modal\"},{\"default\":0,\"kind\":null,\"name\":\"close_modal\"}]}],\"roots\":{\"references\":[{\"attributes\":{\"margin\":[5,10,5,10],\"max_length\":5000,\"title\":\"Pre-Shared Key\",\"value\":\"Thirty two very very secret bytes\"},\"id\":\"1004\",\"type\":\"TextInput\"},{\"attributes\":{\"end\":20,\"margin\":[5,10,5,10],\"start\":0,\"title\":\"Distance (km)\",\"value\":0},\"id\":\"1007\",\"type\":\"Slider\"},{\"attributes\":{\"active\":0,\"labels\":[\"BB84\",\"Ekert\"],\"margin\":[5,10,5,10]},\"id\":\"1009\",\"type\":\"RadioButtonGroup\"},{\"attributes\":{\"end\":0.9,\"margin\":[5,10,5,10],\"start\":0.36904265551980675,\"step\":0.01,\"title\":\"Decoherence rate\",\"value\":0.36904265551980675},\"id\":\"1006\",\"type\":\"Slider\"},{\"attributes\":{\"icon\":null,\"label\":\"Clear terminal\",\"margin\":[5,10,5,10],\"subscribed_events\":[\"button_click\"]},\"id\":\"1016\",\"type\":\"Button\"},{\"attributes\":{\"children\":[{\"id\":\"1003\"},{\"id\":\"1018\"}],\"margin\":[0,0,0,0],\"name\":\"Row00146\"},\"id\":\"1002\",\"type\":\"Row\"},{\"attributes\":{\"icon\":null,\"label\":\"Generate key\",\"margin\":[5,10,5,10],\"subscribed_events\":[\"button_click\"]},\"id\":\"1015\",\"type\":\"Button\"},{\"attributes\":{\"high\":1000000,\"low\":10,\"margin\":[5,10,5,10],\"mode\":\"int\",\"placeholder\":\"0\",\"title\":\"Number of Qubits\",\"value\":10,\"value_throttled\":10},\"id\":\"1005\",\"type\":\"Spinner\"},{\"attributes\":{\"reload\":false},\"id\":\"1020\",\"type\":\"panel.models.location.Location\"},{\"attributes\":{\"disabled\":true,\"labels\":[\"SDN\",\"Poly1305-AES\"],\"margin\":[5,10,5,10]},\"id\":\"1012\",\"type\":\"CheckboxButtonGroup\"},{\"attributes\":{\"children\":[{\"id\":\"1004\"},{\"id\":\"1005\"},{\"id\":\"1006\"},{\"id\":\"1007\"},{\"id\":\"1008\"},{\"id\":\"1009\"},{\"id\":\"1010\"},{\"id\":\"1011\"},{\"id\":\"1012\"},{\"id\":\"1013\"},{\"id\":\"1014\"},{\"id\":\"1015\"},{\"id\":\"1016\"},{\"id\":\"1017\"}],\"css_classes\":[\"panel-widget-box\"],\"height\":500,\"margin\":[5,5,5,5],\"min_height\":500,\"name\":\"WidgetBox00145\"},\"id\":\"1003\",\"type\":\"Column\"},{\"attributes\":{\"labels\":[\"Cascade\"],\"margin\":[5,10,5,10]},\"id\":\"1013\",\"type\":\"CheckboxButtonGroup\"},{\"attributes\":{\"labels\":[\"Eavesdropping\"],\"margin\":[5,10,5,10]},\"id\":\"1010\",\"type\":\"CheckboxGroup\"},{\"attributes\":{\"_clears\":1,\"height\":390,\"margin\":[5,10,5,10],\"name\":\"\",\"options\":{\"cursorBlink\":true},\"output\":\"BB84\\nAlice Bits:               [1 0 0 1 0 1 0 0 0 0]\\nAlice Encoding Basis:     [0 0 0 1 1 1 0 1 0 1]\\nAlice Bits After Encoding:[1 0 0 - + - 0 + 0 +]\\n3 bits lost due to noise\\nBob Decoding Basis:       [0 0 0 1 0 1 1 0 0 1]\\n\\nBits lost due to Bob's wrong basis selection:       3\\n     \\u250c\\u2500\\u2500\\u2500\\u2510      \\u2591           \\u2591      \\nq_0: \\u2524 X \\u251c\\u2500\\u2500\\u2500\\u2500\\u2500\\u2500\\u2591\\u2500\\u2500\\u2500\\u2500\\u2500\\u2500\\u2500\\u2500\\u2500\\u2500\\u2500\\u2591\\u2500\\u2500\\u2500\\u2500\\u2500\\u2500\\n     \\u2514\\u2500\\u2500\\u2500\\u2518      \\u2591           \\u2591      \\nq_1: \\u2500\\u2500\\u2500\\u2500\\u2500\\u2500\\u2500\\u2500\\u2500\\u2500\\u2500\\u2591\\u2500\\u2500\\u2500\\u2500\\u2500\\u2500\\u2500\\u2500\\u2500\\u2500\\u2500\\u2591\\u2500\\u2500\\u2500\\u2500\\u2500\\u2500\\n                \\u2591 \\u250c\\u2500\\u2500\\u2500\\u2500\\u2500\\u2500\\u2500\\u2510 \\u2591      \\nq_2: \\u2500\\u2500\\u2500\\u2500\\u2500\\u2500\\u2500\\u2500\\u2500\\u2500\\u2500\\u2591\\u2500\\u2524 NOISE \\u251c\\u2500\\u2591\\u2500\\u2500\\u2500\\u2500\\u2500\\u2500\\n     \\u250c\\u2500\\u2500\\u2500\\u2510\\u250c\\u2500\\u2500\\u2500\\u2510 \\u2591 \\u2514\\u2500\\u2500\\u2500\\u2500\\u2500\\u2500\\u2500\\u2518 \\u2591 \\u250c\\u2500\\u2500\\u2500\\u2510\\nq_3: \\u2524 X \\u251c\\u2524 H \\u251c\\u2500\\u2591\\u2500\\u2500\\u2500\\u2500\\u2500\\u2500\\u2500\\u2500\\u2500\\u2500\\u2500\\u2591\\u2500\\u2524 H \\u251c\\n     \\u251c\\u2500\\u2500\\u2500\\u2524\\u2514\\u2500\\u2500\\u2500\\u2518 \\u2591 \\u250c\\u2500\\u2500\\u2500\\u2500\\u2500\\u2500\\u2500\\u2510 \\u2591 \\u2514\\u2500\\u2500\\u2500\\u2518\\nq_4: \\u2524 H \\u251c\\u2500\\u2500\\u2500\\u2500\\u2500\\u2500\\u2591\\u2500\\u2524 NOISE \\u251c\\u2500\\u2591\\u2500\\u2500\\u2500\\u2500\\u2500\\u2500\\n     \\u251c\\u2500\\u2500\\u2500\\u2524\\u250c\\u2500\\u2500\\u2500\\u2510 \\u2591 \\u2514\\u2500\\u2500\\u2500\\u2500\\u2500\\u2500\\u2500\\u2518 \\u2591 \\u250c\\u2500\\u2500\\u2500\\u2510\\nq_5: \\u2524 X \\u251c\\u2524 H \\u251c\\u2500\\u2591\\u2500\\u2500\\u2500\\u2500\\u2500\\u2500\\u2500\\u2500\\u2500\\u2500\\u2500\\u2591\\u2500\\u2524 H \\u251c\\n     \\u2514\\u2500\\u2500\\u2500\\u2518\\u2514\\u2500\\u2500\\u2500\\u2518 \\u2591           \\u2591 \\u251c\\u2500\\u2500\\u2500\\u2524\\nq_6: \\u2500\\u2500\\u2500\\u2500\\u2500\\u2500\\u2500\\u2500\\u2500\\u2500\\u2500\\u2591\\u2500\\u2500\\u2500\\u2500\\u2500\\u2500\\u2500\\u2500\\u2500\\u2500\\u2500\\u2591\\u2500\\u2524 H \\u251c\\n     \\u250c\\u2500\\u2500\\u2500\\u2510      \\u2591           \\u2591 \\u2514\\u2500\\u2500\\u2500\\u2518\\nq_7: \\u2524 H \\u251c\\u2500\\u2500\\u2500\\u2500\\u2500\\u2500\\u2591\\u2500\\u2500\\u2500\\u2500\\u2500\\u2500\\u2500\\u2500\\u2500\\u2500\\u2500\\u2591\\u2500\\u2500\\u2500\\u2500\\u2500\\u2500\\n     \\u2514\\u2500\\u2500\\u2500\\u2518      \\u2591           \\u2591      \\nq_8: \\u2500\\u2500\\u2500\\u2500\\u2500\\u2500\\u2500\\u2500\\u2500\\u2500\\u2500\\u2591\\u2500\\u2500\\u2500\\u2500\\u2500\\u2500\\u2500\\u2500\\u2500\\u2500\\u2500\\u2591\\u2500\\u2500\\u2500\\u2500\\u2500\\u2500\\n     \\u250c\\u2500\\u2500\\u2500\\u2510      \\u2591 \\u250c\\u2500\\u2500\\u2500\\u2500\\u2500\\u2500\\u2500\\u2510 \\u2591 \\u250c\\u2500\\u2500\\u2500\\u2510\\nq_9: \\u2524 H \\u251c\\u2500\\u2500\\u2500\\u2500\\u2500\\u2500\\u2591\\u2500\\u2524 NOISE \\u251c\\u2500\\u2591\\u2500\\u2524 H \\u251c\\n     \\u2514\\u2500\\u2500\\u2500\\u2518      \\u2591 \\u2514\\u2500\\u2500\\u2500\\u2500\\u2500\\u2500\\u2500\\u2518 \\u2591 \\u2514\\u2500\\u2500\\u2500\\u2518\\n\",\"sizing_mode\":\"stretch_width\",\"subscribed_events\":[\"keystroke\"]},\"id\":\"1018\",\"type\":\"panel.models.terminal.Terminal\"},{\"attributes\":{\"end\":944.2,\"margin\":[5,10,5,10],\"start\":488.0,\"step\":5,\"title\":\"Time to establish first key (km)\",\"value\":488.0},\"id\":\"1008\",\"type\":\"Slider\"},{\"attributes\":{\"button_type\":\"primary\",\"icon\":null,\"label\":\"Update Inputs\",\"margin\":[5,10,5,10],\"subscribed_events\":[\"button_click\"]},\"id\":\"1014\",\"type\":\"Button\"},{\"attributes\":{\"client_comm_id\":\"d1b24def31444af4944e99021c48818f\",\"comm_id\":\"e4c87e2f3604407abd1020dc1efa738a\",\"plot_id\":\"1002\"},\"id\":\"1019\",\"type\":\"panel.models.comm_manager.CommManager\"},{\"attributes\":{\"icon\":null,\"label\":\"Send\",\"margin\":[5,10,5,10],\"subscribed_events\":[\"button_click\"]},\"id\":\"1017\",\"type\":\"Button\"},{\"attributes\":{\"disabled\":true,\"end\":1,\"margin\":[5,10,5,10],\"start\":0,\"step\":0.01,\"title\":\"Leftover Eavesdropping rate\",\"value\":0},\"id\":\"1011\",\"type\":\"Slider\"}],\"root_ids\":[\"1002\",\"1019\",\"1020\"]},\"title\":\"Bokeh Application\",\"version\":\"2.4.2\"}};\n",
       "    var render_items = [{\"docid\":\"d849d872-9b1d-4b93-8011-f2dfbf154a31\",\"root_ids\":[\"1002\"],\"roots\":{\"1002\":\"5b1b1895-376c-46a8-8529-ffe18ff2f742\"}}];\n",
       "    root.Bokeh.embed.embed_items_notebook(docs_json, render_items);\n",
       "  }\n",
       "  if (root.Bokeh !== undefined && root.Bokeh.Panel !== undefined) {\n",
       "    embed_document(root);\n",
       "  } else {\n",
       "    var attempts = 0;\n",
       "    var timer = setInterval(function(root) {\n",
       "      if (root.Bokeh !== undefined && root.Bokeh.Panel !== undefined) {\n",
       "        clearInterval(timer);\n",
       "        embed_document(root);\n",
       "      } else if (document.readyState == \"complete\") {\n",
       "        attempts++;\n",
       "        if (attempts > 200) {\n",
       "          clearInterval(timer);\n",
       "          console.log(\"Bokeh: ERROR: Unable to run BokehJS code because BokehJS library is missing\");\n",
       "        }\n",
       "      }\n",
       "    }, 25, root)\n",
       "  }\n",
       "})(window);</script>"
      ],
      "text/plain": [
       "Row\n",
       "    [0] WidgetBox(height=500)\n",
       "        [0] TextInput(name='Pre-Shared Key', value='Thirty two very v...)\n",
       "        [1] IntInput(end=1000000, name='Number of Qubits', start=10, value=10)\n",
       "        [2] FloatSlider(end=0.9, name='Decoherence rate', start=0.36904265551980675, step=0.01, value=0.36904265551980675)\n",
       "        [3] FloatSlider(end=20, name='Distance (km)', step=1)\n",
       "        [4] FloatSlider(end=944.2, name='Time to establish f..., start=488.0, step=5, value=488.0)\n",
       "        [5] RadioButtonGroup(name='cb_qprot', options=['BB84', 'Ekert'], value='BB84')\n",
       "        [6] Checkbox(name='Eavesdropping')\n",
       "        [7] FloatSlider(disabled=True, name='Leftover Eavesdropping r..., step=0.01)\n",
       "        [8] CheckButtonGroup(disabled=True, name='cb_i_soln', options=['SDN', 'Poly1305-AES'])\n",
       "        [9] CheckButtonGroup(name='cb_i_soln', options=['Cascade'])\n",
       "        [10] Button(button_type='primary', name='Update Inputs')\n",
       "        [11] Button(name='Generate key')\n",
       "        [12] Button(name='Clear terminal')\n",
       "        [13] Button(name='Send')\n",
       "    [1] Terminal(id=1831802396552)"
      ]
     },
     "execution_count": 21,
     "metadata": {
      "application/vnd.holoviews_exec.v0+json": {
       "id": "1002"
      }
     },
     "output_type": "execute_result"
    }
   ],
=======
   "execution_count": null,
   "id": "e4b01bcc",
   "metadata": {
    "scrolled": false
   },
   "outputs": [],
>>>>>>> af373c9d02b205dc5740eddea17175c296b87f10
   "source": [
    "update()\n",
    "dashboard"
   ]
  },
  {
   "cell_type": "code",
   "execution_count": null,
   "id": "543d3311",
   "metadata": {},
   "outputs": [],
   "source": []
  },
  {
   "cell_type": "code",
   "execution_count": null,
   "id": "de828406",
   "metadata": {},
   "outputs": [],
   "source": [
    "update()"
   ]
  },
  {
   "cell_type": "code",
   "execution_count": null,
   "id": "8bea17d8",
   "metadata": {},
<<<<<<< HEAD
   "outputs": [
    {
     "data": {
      "application/vnd.holoviews_exec.v0+json": "",
      "text/html": [
       "<div id='1021'>\n",
       "\n",
       "\n",
       "\n",
       "\n",
       "\n",
       "  <div class=\"bk-root\" id=\"980df081-0bc0-418c-b333-717d2374bf60\" data-root-id=\"1021\"></div>\n",
       "</div>\n",
       "<script type=\"application/javascript\">(function(root) {\n",
       "  function embed_document(root) {\n",
       "    var docs_json = {\"36ccda01-0c49-4485-b2e3-f66b3f13bb3e\":{\"defs\":[{\"extends\":null,\"module\":null,\"name\":\"ReactiveHTML1\",\"overrides\":[],\"properties\":[]},{\"extends\":null,\"module\":null,\"name\":\"FlexBox1\",\"overrides\":[],\"properties\":[{\"default\":\"flex-start\",\"kind\":null,\"name\":\"align_content\"},{\"default\":\"flex-start\",\"kind\":null,\"name\":\"align_items\"},{\"default\":\"row\",\"kind\":null,\"name\":\"flex_direction\"},{\"default\":\"wrap\",\"kind\":null,\"name\":\"flex_wrap\"},{\"default\":\"flex-start\",\"kind\":null,\"name\":\"justify_content\"}]},{\"extends\":null,\"module\":null,\"name\":\"GridStack1\",\"overrides\":[],\"properties\":[{\"default\":\"warn\",\"kind\":null,\"name\":\"mode\"},{\"default\":null,\"kind\":null,\"name\":\"ncols\"},{\"default\":null,\"kind\":null,\"name\":\"nrows\"},{\"default\":true,\"kind\":null,\"name\":\"allow_resize\"},{\"default\":true,\"kind\":null,\"name\":\"allow_drag\"},{\"default\":[],\"kind\":null,\"name\":\"state\"}]},{\"extends\":null,\"module\":null,\"name\":\"click1\",\"overrides\":[],\"properties\":[{\"default\":\"\",\"kind\":null,\"name\":\"terminal_output\"},{\"default\":\"\",\"kind\":null,\"name\":\"debug_name\"},{\"default\":0,\"kind\":null,\"name\":\"clears\"}]},{\"extends\":null,\"module\":null,\"name\":\"TemplateActions1\",\"overrides\":[],\"properties\":[{\"default\":0,\"kind\":null,\"name\":\"open_modal\"},{\"default\":0,\"kind\":null,\"name\":\"close_modal\"}]},{\"extends\":null,\"module\":null,\"name\":\"MaterialTemplateActions1\",\"overrides\":[],\"properties\":[{\"default\":0,\"kind\":null,\"name\":\"open_modal\"},{\"default\":0,\"kind\":null,\"name\":\"close_modal\"}]}],\"roots\":{\"references\":[{\"attributes\":{\"children\":[{\"id\":\"1023\"},{\"id\":\"1024\"}],\"css_classes\":[\"panel-widget-box\"],\"height\":120,\"margin\":[5,5,5,5],\"min_height\":120,\"name\":\"WidgetBox00143\"},\"id\":\"1022\",\"type\":\"Column\"},{\"attributes\":{\"height\":120,\"margin\":[5,10,5,10],\"name\":\"\",\"options\":{\"cursorBlink\":true},\"sizing_mode\":\"stretch_width\",\"subscribed_events\":[\"keystroke\"]},\"id\":\"1025\",\"type\":\"panel.models.terminal.Terminal\"},{\"attributes\":{\"icon\":null,\"label\":\"Measure\",\"margin\":[5,10,5,10],\"subscribed_events\":[\"button_click\"]},\"id\":\"1024\",\"type\":\"Button\"},{\"attributes\":{\"children\":[{\"id\":\"1022\"},{\"id\":\"1025\"}],\"margin\":[0,0,0,0],\"name\":\"Row00144\"},\"id\":\"1021\",\"type\":\"Row\"},{\"attributes\":{\"margin\":[5,10,5,10],\"max_length\":5000,\"title\":\"Authentication Tag\",\"value\":\"Thirty two very very secret bytes\"},\"id\":\"1023\",\"type\":\"TextInput\"},{\"attributes\":{\"client_comm_id\":\"518b28e66b7d42f68eece94f0165e0c2\",\"comm_id\":\"4db009086e4d41d5875ce801f3ba0363\",\"plot_id\":\"1021\"},\"id\":\"1026\",\"type\":\"panel.models.comm_manager.CommManager\"}],\"root_ids\":[\"1021\",\"1026\"]},\"title\":\"Bokeh Application\",\"version\":\"2.4.2\"}};\n",
       "    var render_items = [{\"docid\":\"36ccda01-0c49-4485-b2e3-f66b3f13bb3e\",\"root_ids\":[\"1021\"],\"roots\":{\"1021\":\"980df081-0bc0-418c-b333-717d2374bf60\"}}];\n",
       "    root.Bokeh.embed.embed_items_notebook(docs_json, render_items);\n",
       "  }\n",
       "  if (root.Bokeh !== undefined && root.Bokeh.Panel !== undefined) {\n",
       "    embed_document(root);\n",
       "  } else {\n",
       "    var attempts = 0;\n",
       "    var timer = setInterval(function(root) {\n",
       "      if (root.Bokeh !== undefined && root.Bokeh.Panel !== undefined) {\n",
       "        clearInterval(timer);\n",
       "        embed_document(root);\n",
       "      } else if (document.readyState == \"complete\") {\n",
       "        attempts++;\n",
       "        if (attempts > 200) {\n",
       "          clearInterval(timer);\n",
       "          console.log(\"Bokeh: ERROR: Unable to run BokehJS code because BokehJS library is missing\");\n",
       "        }\n",
       "      }\n",
       "    }, 25, root)\n",
       "  }\n",
       "})(window);</script>"
      ],
      "text/plain": [
       "Row\n",
       "    [0] WidgetBox(height=120)\n",
       "        [0] TextInput(name='Authentication Tag', value='Thirty two very v...)\n",
       "        [1] Button(name='Measure')\n",
       "    [1] Terminal(id=1831802398728)"
      ]
     },
     "execution_count": 23,
     "metadata": {
      "application/vnd.holoviews_exec.v0+json": {
       "id": "1021"
      }
     },
     "output_type": "execute_result"
    }
   ],
=======
   "outputs": [],
>>>>>>> af373c9d02b205dc5740eddea17175c296b87f10
   "source": [
    "measurement"
   ]
  },
  {
   "cell_type": "code",
   "execution_count": null,
   "id": "d2c7d35a",
   "metadata": {
    "scrolled": true
   },
   "outputs": [],
   "source": [
    "# pn.Row(pn.WidgetBox(qubit_select, height=75), qubit_select, height=100)"
   ]
  },
  {
   "cell_type": "code",
   "execution_count": null,
   "id": "bf1b604d",
   "metadata": {},
   "outputs": [],
   "source": [
    "# static_text = pn.widgets.StaticText(value=qubit_select.options[0].draw())\n",
    "# static_text"
   ]
  },
  {
   "cell_type": "code",
   "execution_count": null,
   "id": "7e89cd4d",
   "metadata": {},
   "outputs": [],
   "source": [
    "# qubit_select.options[0].draw()"
   ]
  },
  {
   "cell_type": "code",
   "execution_count": null,
   "id": "ebcf9743",
   "metadata": {},
   "outputs": [],
   "source": [
    "if mac:\n",
    "    mac.nonce.hex()"
   ]
  },
  {
   "cell_type": "code",
   "execution_count": null,
   "id": "a5e96600",
   "metadata": {},
   "outputs": [],
   "source": [
    "mac"
   ]
  },
  {
   "cell_type": "code",
   "execution_count": null,
   "id": "95333b21",
   "metadata": {},
   "outputs": [],
   "source": []
  },
  {
   "cell_type": "code",
   "execution_count": null,
   "id": "c2d0ae1a",
   "metadata": {},
   "outputs": [],
   "source": [
    "# network table\n",
    "\n",
    "network = pd.DataFrame(columns=[\"Alice\", \"Bob\", \"Public\"])\n",
    "network"
   ]
  },
  {
   "cell_type": "code",
   "execution_count": null,
   "id": "c487f2e1",
   "metadata": {},
   "outputs": [],
   "source": [
    "n = 100\n",
    "\n",
    "alice_key, alice_basis = generate_key2(n)"
   ]
  },
  {
   "cell_type": "code",
   "execution_count": null,
   "id": "ade2f94a",
   "metadata": {},
<<<<<<< HEAD
   "outputs": [
    {
     "data": {
      "text/plain": [
       "array([1, 1, 1, 1, 1, 0, 0, 0, 1, 0, 0, 0, 0, 0, 1, 0, 0, 1, 1, 1, 0, 1,\n",
       "       0, 1, 0, 0, 0, 0, 0, 1, 0, 0, 1, 0, 0, 0, 0, 0, 1, 0, 0, 1, 0, 1,\n",
       "       0, 1, 0, 0, 0, 1, 0, 1, 0, 1, 1, 1, 0, 1, 0, 1, 1, 1, 1, 0, 1, 0,\n",
       "       0, 0, 1, 1, 1, 1, 1, 1, 0, 0, 0, 1, 1, 0, 0, 0, 1, 1, 0, 1, 0, 0,\n",
       "       0, 1, 0, 0, 0, 1, 1, 1, 0, 0, 1, 1])"
      ]
     },
     "execution_count": 31,
     "metadata": {},
     "output_type": "execute_result"
    }
   ],
=======
   "outputs": [],
>>>>>>> af373c9d02b205dc5740eddea17175c296b87f10
   "source": [
    "alice_key"
   ]
  },
  {
   "cell_type": "code",
   "execution_count": null,
   "id": "255dcd93",
   "metadata": {},
<<<<<<< HEAD
   "outputs": [
    {
     "data": {
      "text/plain": [
       "1653160"
      ]
     },
     "execution_count": 32,
     "metadata": {},
     "output_type": "execute_result"
    }
   ],
=======
   "outputs": [],
>>>>>>> af373c9d02b205dc5740eddea17175c296b87f10
   "source": [
    "import time\n",
    "import datetime\n",
    "\n",
    "int(time.time()) // 1000"
   ]
  },
  {
   "cell_type": "code",
   "execution_count": null,
   "id": "2c1f511b",
   "metadata": {},
<<<<<<< HEAD
   "outputs": [
    {
     "data": {
      "text/plain": [
       "2755268"
      ]
     },
     "execution_count": 33,
     "metadata": {},
     "output_type": "execute_result"
    }
   ],
=======
   "outputs": [],
>>>>>>> af373c9d02b205dc5740eddea17175c296b87f10
   "source": [
    "# Allowed delay\n",
    "delay_threshold = 10 * 60 # 10 minutes\n",
    "\n",
    "# Alice time\n",
    "t_alice = time.time()\n",
    "\n",
    "# Alice seed\n",
    "alice_init_seed = int(np.ceil(t_alice / delay_threshold))\n",
    "alice_init_seed"
   ]
  },
  {
   "cell_type": "code",
   "execution_count": null,
   "id": "6144ace7",
   "metadata": {},
<<<<<<< HEAD
   "outputs": [
    {
     "data": {
      "text/plain": [
       "2755268"
      ]
     },
     "execution_count": 34,
     "metadata": {},
     "output_type": "execute_result"
    }
   ],
=======
   "outputs": [],
>>>>>>> af373c9d02b205dc5740eddea17175c296b87f10
   "source": [
    "# Bob time\n",
    "t_bob = time.time()\n",
    "\n",
    "# Bob seed\n",
    "bob_init_seed = int((t_bob+delay_threshold) / delay_threshold)\n",
    "bob_init_seed"
   ]
  },
  {
   "cell_type": "code",
   "execution_count": null,
   "id": "91f221e1",
   "metadata": {},
   "outputs": [],
   "source": [
    "def generate_seed(init_seed):\n",
    "    return np.abs(hash(str(init_seed)) // (2**32 - 1))"
   ]
  },
  {
   "cell_type": "code",
   "execution_count": null,
   "id": "0be93f0e",
   "metadata": {},
<<<<<<< HEAD
   "outputs": [
    {
     "data": {
      "text/plain": [
       "array([1, 1, 1, 0, 1, 0, 1, 1, 0, 0, 0, 0, 1, 1, 1, 1, 0, 1, 0, 0, 0, 1,\n",
       "       0, 0, 1, 1, 0, 1, 1, 0, 0, 0, 0, 0, 0, 0, 0, 1, 0, 1, 0, 1, 0, 1,\n",
       "       1, 1, 0, 0, 0, 1, 1, 0, 0, 1, 0, 0, 1, 1, 0, 0, 0, 0, 1, 1, 1, 1,\n",
       "       0, 0, 0, 1, 1, 1, 1, 0, 0, 1, 0, 0, 0, 1, 1, 0, 1, 1, 0, 1, 0, 0,\n",
       "       1, 0, 0, 1, 0, 1, 0, 0, 0, 0, 0, 0])"
      ]
     },
     "execution_count": 36,
     "metadata": {},
     "output_type": "execute_result"
    }
   ],
=======
   "outputs": [],
>>>>>>> af373c9d02b205dc5740eddea17175c296b87f10
   "source": [
    "np.random.seed(generate_seed(alice_init_seed))\n",
    "\n",
    "def generate_pad(n):\n",
    "    return randint(2, size=n)\n",
    "\n",
    "alice_otp = generate_pad(100)\n",
    "alice_otp"
   ]
  },
  {
   "cell_type": "code",
   "execution_count": null,
   "id": "a50d740e",
   "metadata": {},
<<<<<<< HEAD
   "outputs": [
    {
     "data": {
      "text/plain": [
       "array([1, 1, 1, 0, 1, 0, 1, 1, 0, 0, 0, 0, 1, 1, 1, 1, 0, 1, 0, 0, 0, 1,\n",
       "       0, 0, 1, 1, 0, 1, 1, 0, 0, 0, 0, 0, 0, 0, 0, 1, 0, 1, 0, 1, 0, 1,\n",
       "       1, 1, 0, 0, 0, 1, 1, 0, 0, 1, 0, 0, 1, 1, 0, 0, 0, 0, 1, 1, 1, 1,\n",
       "       0, 0, 0, 1, 1, 1, 1, 0, 0, 1, 0, 0, 0, 1, 1, 0, 1, 1, 0, 1, 0, 0,\n",
       "       1, 0, 0, 1, 0, 1, 0, 0, 0, 0, 0, 0])"
      ]
     },
     "execution_count": 37,
     "metadata": {},
     "output_type": "execute_result"
    }
   ],
=======
   "outputs": [],
>>>>>>> af373c9d02b205dc5740eddea17175c296b87f10
   "source": [
    "np.random.seed(generate_seed(bob_init_seed))\n",
    "\n",
    "bob_otp = generate_pad(100)\n",
    "bob_otp"
   ]
  },
  {
   "cell_type": "code",
   "execution_count": null,
   "id": "c84a115c",
   "metadata": {},
   "outputs": [],
   "source": [
    "alice_otp == bob_otp"
   ]
  },
  {
   "cell_type": "code",
   "execution_count": null,
   "id": "23663da0",
   "metadata": {},
   "outputs": [],
   "source": []
  }
 ],
 "metadata": {
  "kernelspec": {
   "display_name": "Python 3 (ipykernel)",
   "language": "python",
   "name": "python3"
  },
  "language_info": {
   "codemirror_mode": {
    "name": "ipython",
    "version": 3
   },
   "file_extension": ".py",
   "mimetype": "text/x-python",
   "name": "python",
   "nbconvert_exporter": "python",
   "pygments_lexer": "ipython3",
   "version": "3.9.12"
  }
 },
 "nbformat": 4,
 "nbformat_minor": 5
}
